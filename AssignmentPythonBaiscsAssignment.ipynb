{
  "nbformat": 4,
  "nbformat_minor": 0,
  "metadata": {
    "colab": {
      "provenance": []
    },
    "kernelspec": {
      "name": "python3",
      "display_name": "Python 3"
    },
    "language_info": {
      "name": "python"
    }
  },
  "cells": [
    {
      "cell_type": "code",
      "execution_count": null,
      "metadata": {
        "id": "6DuGaipcnmrQ"
      },
      "outputs": [],
      "source": [
        "\n",
        "#0 Explain the key features of Python that make it a popular choice for programming0\n"
      ]
    },
    {
      "cell_type": "markdown",
      "source": [
        "Interpreted Language\n",
        "\n",
        "Python doesn’t need to be compiled. The interpreter runs the code directly, which makes development and testing faster.\n",
        "\n",
        "Extensive Standard Library\n",
        "\n",
        "Python comes with a rich set of built-in libraries and modules for handling file I/O, regular expressions, networking, databases, and more, reducing the need to write code from scratch.\n",
        "\n",
        "Object-Oriented and Functional\n",
        "\n",
        "Python supports multiple programming paradigms, including object-oriented programming"
      ],
      "metadata": {
        "id": "c6lSRe5bnvjq"
      }
    },
    {
      "cell_type": "markdown",
      "source": [
        "0 Describe the role of predefined keywords in Python and provide examples of how they are used in a\n",
        "program0"
      ],
      "metadata": {
        "id": "6hTA5xMsoPOu"
      }
    },
    {
      "cell_type": "markdown",
      "source": [
        "keywords are reserved words that have special meaning and are part of the language’s syntax.\n",
        "They cannot be used as identifiers (variable names, function names, etc.) because they define the structure and rules of Python programs.\n",
        "\n",
        "These keywords help in writing conditional statements, loops, function definitions, exception handling, and more.\n",
        "\n",
        "Examples of Python Keywords in Programs\n",
        "\n",
        "if, else, elif → Used for decision making\n",
        "\n",
        "\n",
        "for, in → Used for looping\n",
        "\n",
        "\n",
        "def, return → Used for function definition\n",
        "\n",
        "\n",
        "class, self → Used in object-oriented programming\n",
        "\n",
        "\n",
        "try, except → Used for exception handling\n",
        "\n",
        "\n",
        "✅ In short:\n",
        "Predefined keywords in Python define the rules, structure, and flow of programs. They cannot be redefined or used as variable names.\n"
      ],
      "metadata": {
        "id": "8mExVasPoYcn"
      }
    },
    {
      "cell_type": "code",
      "source": [
        "*0 Compare and contrast mutable and immutable objects in Python with examples0\n"
      ],
      "metadata": {
        "id": "Rso05vz3qTXT"
      },
      "execution_count": null,
      "outputs": []
    },
    {
      "cell_type": "markdown",
      "source": [
        "Mutable = can be modified in place (list, dict, set, bytearray).\n",
        "\n",
        "Immutable = cannot be changed after creation (int,float, str, tuple,bool).\n",
        "- When you change a mutable object, the same memory location is updated. However, when you attempt to change an immutable object, Python creates a new object in memory with the updated value, leaving the original unchanged. Understanding this concept is crucial for writing efficient and bug-free programs, especially when passing objects as function arguments.\n",
        "\n",
        "✅ Examples\n",
        "1. Mutable Object Example (List)\n",
        "# List is mutable\n",
        "numbers = [1, 2, 3]\n",
        "print(\"Before:\", numbers)\n",
        "\n",
        "numbers[0] = 100   # Changing element\n",
        "print(\"After:\", numbers)\n",
        "\n",
        "\n",
        "Output:\n",
        "\n",
        "Before: [1, 2, 3]\n",
        "After: [100, 2, 3]\n",
        "\n",
        "\n",
        "👉 Same list is modified.\n",
        "\n",
        "2. Immutable Object Example (String)\n",
        "# String is immutable\n",
        "name = \"Python\"\n",
        "print(\"Before:\", name)\n",
        "\n",
        "# Trying to modify\n",
        "new_name = name.replace(\"P\", \"J\")\n",
        "print(\"After:\", new_name)\n",
        "print(\"Original:\", name)\n",
        "\n",
        "\n",
        "Output:\n",
        "\n",
        "Before: Python\n",
        "After: Jython\n",
        "Original: Python\n",
        "\n",
        "\n",
        "👉 A new string was created; the original remained unchanged.\n",
        "\n"
      ],
      "metadata": {
        "id": "Hp7pdn3jqYNe"
      }
    },
    {
      "cell_type": "markdown",
      "source": [
        "/0 Discuss the different types of operators in Python and provide examples of how they are used0\n"
      ],
      "metadata": {
        "id": "TtrqHhzPsXEg"
      }
    },
    {
      "cell_type": "markdown",
      "source": [
        "Arithmetic Operators – Perform mathematical operations: +, -, *, /, %, **, //.\n",
        "\n",
        "Relational/Comparison Operators – Compare values: ==, !=, >, <, >=, <=.\n",
        "\n",
        "Logical Operators – Combine conditional statements: and, or, not.\n",
        "\n",
        "Assignment Operators – Assign values: =, +=, -=, *=, /=.\n",
        "\n",
        "Bitwise Operators – Operate on binary data: &, |, ^, ~, <<, >>.\n",
        "\n",
        "Membership Operators – Test membership: in, not in.\n",
        "\n",
        "Identity Operators – Compare object memory locations: is, is not.\n",
        "- examples\n",
        "a = 10\n",
        "b = 5\n",
        "\n",
        "# Arithmetic\n",
        "print(a + b)  # 15\n",
        "\n",
        "# Comparison\n",
        "print(a > b)  # True\n",
        "\n",
        "# Logical\n",
        "print(a > 0 and b > 0)  # True\n",
        "\n",
        "# Membership\n",
        "print(2 in [1, 2, 3])  # True"
      ],
      "metadata": {
        "id": "uErhr4uMr-49"
      }
    },
    {
      "cell_type": "markdown",
      "source": [
        "\"0 Explain the concept of type casting in Python with examples0\n"
      ],
      "metadata": {
        "id": "bAU34bFy5rxG"
      }
    },
    {
      "cell_type": "markdown",
      "source": [
        "Type casting means converting one data type into another in Python.\n",
        "It allows us to change how data is stored or interpreted\n",
        "1. Types of Type Casting\n",
        "(A) Implicit Type Casting (Type Conversion)\n",
        "\n",
        "Done automatically by Python.\n",
        "\n",
        "Happens when a smaller data type is converted into a bigger data type to avoid data loss.\n",
        "\n",
        "✅ Example:\n",
        "\n",
        "x = 10     # int\n",
        "y = 3.5    # float\n",
        "\n",
        "result = x + y   # int + float → float\n",
        "print(result)    # 13.5\n",
        "print(type(result))  # <class 'float'>\n",
        "\n",
        "\n",
        "👉 Python automatically converted int → float.\n",
        "\n",
        "(B) Explicit Type Casting (Type Casting by Programmer)\n",
        "\n",
        "Done manually using built-in functions:\n",
        "\n",
        "int(), float(), str(), list(), tuple(), set(), etc.\n",
        "\n",
        "✅ Examples:\n",
        "\n",
        "# int to float\n",
        "a = 5\n",
        "print(float(a))   # 5.0\n",
        "\n",
        "\n",
        "✅ Summary\n",
        "\n",
        "Type casting = converting one data type into another.\n",
        "\n",
        "Implicit casting → Python does it automatically (e.g., int → float).\n",
        "\n",
        "Explicit casting → Programmer uses functions like int(), float(), str(), etc."
      ],
      "metadata": {
        "id": "5zMng33M5tVe"
      }
    },
    {
      "cell_type": "markdown",
      "source": [
        "0 How do conditional statements work in Python? Illustrate with examples0\n",
        "Conditional statements allow programs to make decisions based on certain conditions.\n",
        "\n",
        "Python uses if, elif, and else to control the flow of execution.\n",
        "\n",
        "if: Executes a block if the condition is True.\n",
        "\n",
        "elif: Executes if the previous if condition is False and its own condition is True.\n",
        "\n",
        "else: Executes if all previous conditions are False.\n",
        "\n",
        "They are fundamental for implementing decision-making logic\n",
        "- if → checks one condition.\n",
        "\n",
        "if…else → chooses between two conditions.\n",
        "\n",
        "if…elif…else → handles multiple conditions.\n",
        "\n",
        "Nested if → checks conditions inside another condition.\n",
        "-ex"
      ],
      "metadata": {
        "id": "yoK1vKn37g7M"
      }
    },
    {
      "cell_type": "code",
      "source": [
        "marks = 85\n",
        "\n",
        "if marks >= 90:\n",
        "    print(\"Grade A\")\n",
        "elif marks >= 75:\n",
        "    print(\"Grade B\")\n",
        "elif marks >= 50:\n",
        "    print(\"Grade C\")\n",
        "else:\n",
        "    print(\"Fail\")"
      ],
      "metadata": {
        "id": "q5MOpJ5085M3"
      },
      "execution_count": null,
      "outputs": []
    },
    {
      "cell_type": "markdown",
      "source": [
        "Describe the different types of loops in Python and their use cases with examples.\n",
        "- Loops are used to execute a block of code repeatedly until a condition is met.\n",
        "\n",
        "Python has:\n",
        "\n",
        "For Loop – Iterates over a sequence such as a list, tuple, or string.\n",
        "\n",
        "While Loop – Runs as long as a condition is true.\n",
        "\n",
        "Nested Loops – A loop inside another loop for complex iterations.\n",
        "\n",
        "Loop control statements like break, continue, and pass allow finer control over loop execution."
      ],
      "metadata": {
        "id": "IQEy9MCg9nwk"
      }
    },
    {
      "cell_type": "code",
      "source": [
        "# For loop\n",
        "for i in range(5):\n",
        "    print(i)\n",
        "\n",
        "# While loop\n",
        "x = 0\n",
        "while x < 3:\n",
        "    print(x)\n",
        "    x += 1\n",
        "\n",
        "# Using break\n",
        "for num in range(10):\n",
        "    if num == 5:\n",
        "        break\n",
        "    print(num)\n"
      ],
      "metadata": {
        "id": "CV_KD5xL98Fg"
      },
      "execution_count": null,
      "outputs": []
    },
    {
      "cell_type": "markdown",
      "source": [
        "for loop → Iterates over a sequence (when number of iterations is known).\n",
        "\n",
        "while loop → Runs until condition becomes False (when iterations unknown).\n",
        "\n",
        "nested loops → Loop inside a loop (useful in grids/matrices).\n",
        "\n",
        "break, continue, pass → Control loop flow."
      ],
      "metadata": {
        "id": "LhtQ8jG_84cz"
      }
    }
  ]
}