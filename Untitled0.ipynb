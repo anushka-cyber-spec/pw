{
  "nbformat": 4,
  "nbformat_minor": 0,
  "metadata": {
    "colab": {
      "provenance": []
    },
    "kernelspec": {
      "name": "python3",
      "display_name": "Python 3"
    },
    "language_info": {
      "name": "python"
    }
  },
  "cells": [
    {
      "cell_type": "code",
      "execution_count": null,
      "metadata": {
        "id": "LyJndJm5PSTJ"
      },
      "outputs": [],
      "source": [
        "1 Based on what you have learnt in the class, do the following steps:\n",
        "\n",
        "                 a. Create a new folder\n",
        "\n",
        "                 b. Put the following files in the folder\n",
        "\n",
        "\n",
        "                                    Code.txt\n",
        "\n",
        "                                    Log.txt\n",
        "\n",
        "                                    Output.txt\n",
        "\n",
        "\n",
        "                 c. Stage the Code.txt and Output.txt files\n",
        "\n",
        "                 d. Commit them\n",
        "\n",
        "                 e. And finally push them to GitHub\n",
        "\n",
        "\n"
      ]
    },
    {
      "cell_type": "code",
      "source": [
        "#create\n",
        "mkdir Anushka\n",
        "cd Anushka\n",
        "#create files\n",
        "touch Code.txt Log.txt Output.txt\n",
        "#Stage the Code.txt and Output.txt files\n",
        "git init\n",
        "git add Code.txt Output.txt\n",
        "#Commit them\n",
        "git commit -m \"adding files\"\n",
        "\n",
        "#And finally push them to GitHub\n",
        "git remote add origin https://github.com/anushka-cyber-spec/pw.git\n",
        "git push -u origin main"
      ],
      "metadata": {
        "id": "PDXAN1llrGyd"
      },
      "execution_count": null,
      "outputs": []
    },
    {
      "cell_type": "markdown",
      "source": [
        "Tasks to Be Performed:\n",
        "\n",
        "\n",
        "1. Create a Git working directory with feature1.txt and feature2.txt in the master branch\n",
        "\n",
        "2. Create 3 branches develop, feature1 and feature2\n",
        "\n",
        "3. In develop branch create develop.txt, do not stage or commit it\n",
        "\n",
        "4. Stash this file and check out to feature1 branch\n",
        "\n",
        "5. Create new.txt file in feature1 branch, stage and commit this file\n",
        "\n",
        "6. Checkout to develop, unstash this file and commit\n",
        "\n",
        "7. Please submit all the Git commands used to do the above step>"
      ],
      "metadata": {
        "id": "tbC_ziDjcQja"
      }
    },
    {
      "cell_type": "code",
      "source": [],
      "metadata": {
        "id": "js-3n6BviIju"
      },
      "execution_count": null,
      "outputs": []
    },
    {
      "cell_type": "code",
      "source": [
        "mkdir Anushka1\n",
        "cd Anushka1\n",
        "touch feature1.txt feature2.txt\n",
        "git init\n",
        "git branch develop\n",
        "git branch feature1\n",
        "git branch feature2\n",
        "\n",
        "git checkout develop\n",
        "touch develop.txt\n",
        "#stash\n",
        "git add develop.txt\n",
        "git stash\n",
        "\n",
        "git checkout feature1\n",
        "touch new.txt\n",
        "git add new.txt\n",
        "git commit -m \"added in feature\"\n",
        "#checkout to develop\n",
        "git checkout develop\n",
        "git stash pop\n",
        "git commit -m \"unstash\""
      ],
      "metadata": {
        "id": "euYW-9pycmfX"
      },
      "execution_count": null,
      "outputs": []
    },
    {
      "cell_type": "markdown",
      "source": [
        "Tasks to Be Performed:\n",
        "\n",
        "\n",
        "1. Create a Git working directory, with the following branches:\n",
        "\n",
        "\n",
        "               Develop\n",
        "\n",
        "               F1\n",
        "\n",
        "               f2\n",
        "\n",
        "\n",
        "2. In the master branch, commit main.txt file\n",
        "\n",
        "3. Put develop.txt in develop branch, f1.txt and f2.txt in f1 and f2 respectively\n",
        "\n",
        "4. Push all these branches to GitHub\n",
        "\n",
        "5. On local delete f2 branch\n",
        "\n",
        "6. Delete the same branch on GitHub as well3"
      ],
      "metadata": {
        "id": "rUpVsxFXhLFj"
      }
    },
    {
      "cell_type": "code",
      "source": [
        "mkdir Anushka2\n",
        "cd Anushka2\n",
        "git init\n",
        "git branch develop\n",
        "git branch f1\n",
        "git branch f2\n",
        "touch main.txt\n",
        "git add main.txt\n",
        "git commit -m \"main\"\n",
        "git checkout develop\n",
        "touch develop.txt\n",
        "git add develop.txt\n",
        "git commit -m \"develop\"\n",
        "git checkout f1\n",
        "touch f1.txt\n",
        "git add f1.txt\n",
        "git commit -m \"f1\"\n",
        "git checkout f2\n",
        "touch f2.txt\n",
        "git add f2.txt\n",
        "git commit -m \"f2\"\n",
        "#add to remote\n",
        "git remote add origin <https://github.com/anushka-cyber-spec/pw.git>\n",
        "\n",
        "git push -u origin main\n",
        "git push -u origin develop\n",
        "git push -u origin f1\n",
        "git push -u origin f2\n",
        "#deelte localf2\n",
        "git checkout main\n",
        "git branch -d f2\n",
        "#delete remo f2\n",
        "git push origin -d f2"
      ],
      "metadata": {
        "id": "S-kLoCWBhKnx"
      },
      "execution_count": null,
      "outputs": []
    },
    {
      "cell_type": "markdown",
      "source": [
        "Tasks to Be Performed:\n",
        "\n",
        "Put master.txt on master branch, stage and commit\n",
        "Create 3 branches: public 1, public 2 and private\n",
        "Put public1.txt on public 1 branch, stage and commit\n",
        "Merge public 1 on master branch\n",
        "Merge public 2 on master branch\n",
        "Edit master.txt on private branch, stage and commit\n",
        "Now update branch public 1 and public 2 with new master code in private\n",
        "Also update new master code on master\n",
        "Finally update all the code on the private branch"
      ],
      "metadata": {
        "id": "Am1CDPos0x5k"
      }
    },
    {
      "cell_type": "code",
      "source": [
        "#put master.txt\n",
        "git init\n",
        "touch master.txt\n",
        "git add master.txt\n",
        "git commit -m \"master\"\n",
        "#create 3 branches\n",
        "git branch public1\n",
        "git branch public2\n",
        "git branch private\n",
        "#3. Put public1.txt on public 1 branch, stage and commit\n",
        "git checkout public1\n",
        "touch public1.txt\n",
        "git add public1.txt\n",
        "git commit -m \"public1\"\n",
        "#4. Merge public 1 on master branch\n",
        "git checkout master\n",
        "git merge public1\n",
        "#5. Merge public 2 on master branch\n",
        "git checkout master\n",
        "git merge public2\n",
        "#6. Edit master.txt on private branch, stage and commit\n",
        "git checkout private\n",
        "touch master.txt\n",
        "git add master.txt\n",
        "git commit -m \"master\"\n",
        "#7. Now update branch public 1 and public 2 with new master code in private\n",
        "git checkout public1\n",
        "git merge master\n",
        "git checkout public2\n",
        "git merge master\n",
        "# Also update new master code on master\n",
        "git checkout master\n",
        "git merge private\n",
        "#Finally update all the code on the private branch\n",
        "git checkout private\n",
        "git merge master -m \"Sync private with latest master\""
      ],
      "metadata": {
        "id": "SC5ShBjw0z81"
      },
      "execution_count": null,
      "outputs": []
    },
    {
      "cell_type": "markdown",
      "source": [
        "Tasks to Be Performed:\n",
        "1. Create a Git Flow workflow architecture on Git\n",
        "2. Create all the required branches\n",
        "3. starting from e feature branch, push the branch to the master, following the architecture\n",
        "4. Push an urgent.txt on master using hotfix"
      ],
      "metadata": {
        "id": "bIPg4yH7r9MC"
      }
    },
    {
      "cell_type": "code",
      "source": [
        "git init\n",
        "touch readme.txt\n",
        "git add readme.txt\n",
        "git commit -m \"Initial master commit\"\n",
        "\n",
        "# Create develop branch\n",
        "git branch develop\n",
        "\n",
        "# Create feature branch from develop\n",
        "git checkout develop\n",
        "git branch feature\n",
        "git checkout feature\n",
        "touch login.txt\n",
        "git add login.txt\n",
        "git commit -m \"Add login feature\"\n",
        "\n",
        "# Merge feature to develop\n",
        "git checkout develop\n",
        "git merge feature/login\n",
        "# Merge develop to master\n",
        "git checkout master\n",
        "git merge develop\n",
        "\n",
        "# Create hotfix branch from master\n",
        "git branch hotfix/urgent-fix\n",
        "git checkout hotfix/urgent-fix\n",
        "touch urgent.txt\n",
        "git add urgent.txt\n",
        "git commit -m \"Add urgent fix\"\n",
        "\n",
        "# Merge hotfix to master\n",
        "git checkout master\n",
        "git merge hotfix/urgent-fix\n",
        "\n",
        "# Push all branches\n",
        "git push --all\n",
        "\n"
      ],
      "metadata": {
        "id": "-LzHnqw2sHLn"
      },
      "execution_count": null,
      "outputs": []
    }
  ]
}