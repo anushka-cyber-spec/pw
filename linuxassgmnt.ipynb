{
  "nbformat": 4,
  "nbformat_minor": 0,
  "metadata": {
    "colab": {
      "provenance": []
    },
    "kernelspec": {
      "name": "python3",
      "display_name": "Python 3"
    },
    "language_info": {
      "name": "python"
    }
  },
  "cells": [
    {
      "cell_type": "markdown",
      "source": [
        "--- What is Linux\n",
        "- An open-source operating system kernel\n",
        "\n",
        "The core of many OS distributions (like Ubuntu, Fedora, Debian) that manage hardware and run applications.\n",
        "\n",
        "---What is the difference between Hard Link & Soft Link\n",
        "- Hard Link\n",
        "\n",
        "Definition: A direct pointer to the file’s data (inode) on disk.\n",
        "\n",
        "Behavior:\n",
        "\n",
        "Both the original file and hard link share the same inode number.\n",
        "\n",
        "If you delete the original file, the data is still accessible through the hard link.\n",
        "Soft Link (Symbolic Link)\n",
        "\n",
        "Definition: A shortcut (reference) to the file’s path, not its data.\n",
        "\n",
        "Behavior:\n",
        "\n",
        "Has its own inode, storing the path to the target file.\n",
        "\n",
        "If the original file is deleted, the soft link becomes broken (dangling).\n",
        "\n",
        "---What is a Kernel in Linux\n",
        "- In Linux, the kernel is the core part of the operating system — think of it as the bridge between your computer’s hardware and the software you run.\n",
        "\n",
        "\n",
        "---How do you create a user account\n",
        " - Create the user\n",
        "sudo useradd -m username\n",
        "\n",
        "\n",
        "-m → creates the user’s home directory (/home/username).\n",
        "\n",
        "---What is the ‘grep’ command used for in Linux\n",
        "- the grep command is used to search for text patterns inside files or command output.\n",
        "\n",
        "Key Points\n",
        "\n",
        "Name origin: Global Regular Expression Print\n",
        "\n",
        "Function: Looks for lines that match a given pattern and prints them.\n",
        "\n",
        "Supports: Simple text matching and powerful regular expressions for complex searches.\n",
        "\n",
        "Basic Syntax-\n",
        "grep [options] pattern filename\n",
        "\n",
        "\n",
        "\n",
        " ---Step1: Create user p1\n",
        "\n",
        " Step2: He should be part of 3 groups g1,g2,g3.\n",
        "\n",
        " Step3: whenever he creates a file automatically in the group section of file grp g1 should come.\n"
      ],
      "metadata": {
        "id": "7d9wqJTN6iwO"
      }
    },
    {
      "cell_type": "code",
      "execution_count": 2,
      "metadata": {
        "colab": {
          "base_uri": "https://localhost:8080/",
          "height": 106
        },
        "id": "oquop968504F",
        "outputId": "33dea9ad-38b3-4b2a-c728-7a19a8376c39"
      },
      "outputs": [
        {
          "output_type": "error",
          "ename": "SyntaxError",
          "evalue": "invalid character '→' (U+2192) (ipython-input-3246863303.py, line 10)",
          "traceback": [
            "\u001b[0;36m  File \u001b[0;32m\"/tmp/ipython-input-3246863303.py\"\u001b[0;36m, line \u001b[0;32m10\u001b[0m\n\u001b[0;31m    -m → create home directory /home/p1\u001b[0m\n\u001b[0m       ^\u001b[0m\n\u001b[0;31mSyntaxError\u001b[0m\u001b[0;31m:\u001b[0m invalid character '→' (U+2192)\n"
          ]
        }
      ],
      "source": [
        "bash\n",
        "sudo groupadd g1\n",
        "sudo groupadd g2\n",
        "sudo groupadd g3\n",
        "\n",
        "Create user p1 with g1 as the primary group\n",
        "sudo useradd -m -g g1 p1\n",
        "\n",
        "\n",
        "-m → create home directory /home/p1\n",
        "\n",
        "-g g1 → sets primary group as g1 (this is the group that will show in the “group” column for new files).\n",
        "\n",
        "Step 3 – Add p1 to secondary groups\n",
        "sudo usermod -aG g2,g3 p1"
      ]
    },
    {
      "cell_type": "markdown",
      "source": [
        " Step1: Create directory /tmp/bg as root user and create files inside it.\n",
        "\n",
        " Step2: “abhi” should be the owner of the directory. He should be able to create files and delete files inside the direcctory and also he should be able to add content to all files inside the directory."
      ],
      "metadata": {
        "id": "el31l3g8rPZh"
      }
    },
    {
      "cell_type": "code",
      "source": [
        "Create /tmp/bg as root\n",
        "sudo mkdir /tmp/bg\n",
        "sudo touch /tmp/bg/file1 /tmp/bg/file2 /tmp/bg/file3\n",
        "\n",
        "\n",
        "sudo useradd -m abhi\n",
        "sudo passwd abhi\n",
        "\n",
        "#Make abhi the owner of the directory\n",
        "sudo chown abhi /tmp/bg\n",
        "\n",
        "\n",
        "\n",
        "sudo chmod u+rwx /tmp/\n",
        "\n"
      ],
      "metadata": {
        "id": "wylsm3F9tjDW"
      },
      "execution_count": null,
      "outputs": []
    },
    {
      "cell_type": "markdown",
      "source": [
        "--You suspect that a particular process is consuming excessive CPU resources on your Linux server. How\n",
        "would you identify and terminate this process"
      ],
      "metadata": {
        "id": "SHGs4MrhuXzj"
      }
    },
    {
      "cell_type": "code",
      "source": [
        "#bash\n",
        "top\n",
        "\n",
        "#terminate high cpu process forcefully\n",
        "kill -9 <PID> \n"
      ],
      "metadata": {
        "id": "A2SsXDdvubRd"
      },
      "execution_count": null,
      "outputs": []
    }
  ]
}
